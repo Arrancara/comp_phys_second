{
 "cells": [
  {
   "cell_type": "markdown",
   "metadata": {},
   "source": [
    "<img src=\"data:image/jpeg;base64,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\" align=\"right\"/><br><br>\n",
    "<br>\n",
    "# PHYS20762 \n",
    "## The Damped Harmonic Oscillator\n",
    "\n",
    "Aavash Subedi <br>\n",
    "University of Manchester <br>\n",
    "March 2022\n"
   ]
  },
  {
   "cell_type": "markdown",
   "metadata": {},
   "source": []
  },
  {
   "cell_type": "markdown",
   "metadata": {},
   "source": [
    "We begin by first importing all the necessary libraries."
   ]
  },
  {
   "cell_type": "code",
   "execution_count": 1,
   "metadata": {},
   "outputs": [],
   "source": [
    "%matplotlib inline\n",
    "\n",
    "\n",
    "import numpy as np\n",
    "import scipy as sci\n",
    "import matplotlib.pyplot as plt\n",
    "import seaborn as sns\n",
    "import random\n",
    "import sympy as smp\n",
    "import sys\n",
    "\n",
    "MASTER_PARAMS = {\"k\": 0.6,\n",
    "                \"m\": 2.95}\n",
    "\n",
    "OMEGA_SQR = np.true_divide(MASTER_PARAMS[\"k\"], MASTER_PARAMS[\"m\"])\n",
    "\n",
    "plt.rcParams.update({'font.size': 16})\n"
   ]
  },
  {
   "cell_type": "markdown",
   "metadata": {},
   "source": [
    "Code below is used to install the plotting style given in,  https://github.com/garrettj403/SciencePlots . \n",
    "\n",
    "The module will only be installed to the current Jupyter Kernel, however if the examiner does not wish to run this, its understandable. The plots will look slightly different when the code is ran. The program should run fine even if the cell is omitted."
   ]
  },
  {
   "cell_type": "code",
   "execution_count": 2,
   "metadata": {},
   "outputs": [
    {
     "name": "stdout",
     "output_type": "stream",
     "text": [
      "Collecting SciencePlots"
     ]
    },
    {
     "name": "stderr",
     "output_type": "stream",
     "text": [
      "  WARNING: Missing build requirements in pyproject.toml for SciencePlots from https://files.pythonhosted.org/packages/c2/44/7b5c0ecd6f2862671a076425546f86ac540bc48c1a618a82d6faa3b26f58/SciencePlots-1.0.9.tar.gz#sha256=2b002f263734a718acdf1e5be57f0de5ee887e70517dfbe1118a27d0ee3dfb0f.\n"
     ]
    },
    {
     "name": "stdout",
     "output_type": "stream",
     "text": [
      "\n",
      "  Downloading SciencePlots-1.0.9.tar.gz (10 kB)\n",
      "  Installing build dependencies: started\n",
      "  Installing build dependencies: still running...\n",
      "  Installing build dependencies: finished with status 'done'\n",
      "  Getting requirements to build wheel: started\n",
      "  Getting requirements to build wheel: finished with status 'done'\n",
      "  Installing backend dependencies: started\n",
      "  Installing backend dependencies: finished with status 'done'\n",
      "    Preparing wheel metadata: started\n",
      "    Preparing wheel metadata: finished with status 'done'\n",
      "Requirement already satisfied: matplotlib in c:\\programdata\\anaconda3\\lib\\site-packages (from SciencePlots) (3.4.2)\n",
      "Requirement already satisfied: pillow>=6.2.0 in c:\\programdata\\anaconda3\\lib\\site-packages (from matplotlib->SciencePlots) (8.3.1)\n",
      "Requirement already satisfied: pyparsing>=2.2.1 in c:\\programdata\\anaconda3\\lib\\site-packages (from matplotlib->SciencePlots) (2.4.7)\n",
      "Requirement already satisfied: numpy>=1.16 in c:\\programdata\\anaconda3\\lib\\site-packages (from matplotlib->SciencePlots) (1.20.3)\n",
      "Requirement already satisfied: kiwisolver>=1.0.1 in c:\\programdata\\anaconda3\\lib\\site-packages (from matplotlib->SciencePlots) (1.3.1)\n",
      "Requirement already satisfied: python-dateutil>=2.7 in c:\\programdata\\anaconda3\\lib\\site-packages (from matplotlib->SciencePlots) (2.8.2)\n",
      "Requirement already satisfied: cycler>=0.10 in c:\\programdata\\anaconda3\\lib\\site-packages (from matplotlib->SciencePlots) (0.10.0)\n",
      "Requirement already satisfied: six in c:\\programdata\\anaconda3\\lib\\site-packages (from cycler>=0.10->matplotlib->SciencePlots) (1.16.0)\n",
      "Building wheels for collected packages: SciencePlots\n",
      "  Building wheel for SciencePlots (PEP 517): started\n",
      "  Building wheel for SciencePlots (PEP 517): finished with status 'done'\n",
      "  Created wheel for SciencePlots: filename=SciencePlots-1.0.9-py3-none-any.whl size=6490 sha256=64093c97bcc39ee4017714f87980acb20738a5a8b9180dfd75a2b7f1e712ad01\n",
      "  Stored in directory: c:\\users\\aavas\\appdata\\local\\pip\\cache\\wheels\\3d\\f4\\71\\18ce2458856e86870330036e2d2815e5cf21789b8782f5bd76\n",
      "Successfully built SciencePlots\n",
      "Installing collected packages: SciencePlots\n",
      "Successfully installed SciencePlots-1.0.9\n"
     ]
    },
    {
     "name": "stderr",
     "output_type": "stream",
     "text": [
      "  WARNING: The project does not specify a build backend, and pip cannot fall back to setuptools without 'wheel'.\n"
     ]
    }
   ],
   "source": [
    "#Matplotlib style pack that produces plots that adhere to scientific papers\n",
    "#Could also use MNRAS style format but I prefer this repository.\n",
    "\n",
    "# Install a pip package in the current Jupyter kernel\n",
    "!{sys.executable} -m pip install SciencePlots\n"
   ]
  },
  {
   "cell_type": "code",
   "execution_count": 44,
   "metadata": {},
   "outputs": [],
   "source": [
    "try:\n",
    "    plt.style.use([\"science\", \"no-latex\"])\n",
    "except:\n",
    "    plt.style.use([\"default\"])"
   ]
  },
  {
   "cell_type": "markdown",
   "metadata": {},
   "source": [
    "### Introduction to Project"
   ]
  },
  {
   "cell_type": "markdown",
   "metadata": {},
   "source": [
    "The general aim of the project is to investigate a Damped Harmonic Oscilaltor using numerical methods.  Four diffrent numerical integration methods are tested and their accuracies are compared against analytical solutions.  The motivation behind this project is to demonstrate that O.D.E's can be solved numerically and extrapolate this methodology to solve more complex solutions that do not (yet) have anaytical solutions.  Euler, improved Euler, Verlet and Euler-Cromer methods are considered. "
   ]
  },
  {
   "cell_type": "markdown",
   "metadata": {},
   "source": [
    "### Theory"
   ]
  },
  {
   "cell_type": "markdown",
   "metadata": {},
   "source": [
    "A spring-mass system follows a second order diffrential equation given by, $$ma +kx + bv = F(t),   \\;\\;\\;\\;$$\n",
    "\n",
    "where, $m$ is the masss, $a$, $v$ and $x$ are defined as the acceleration, velocity and displacmenet of the masss. $\\;$ An external time dependent force $F(t)$ acts on the system of spring constant $k$. $\\;$ The damping forces contribute a damping constant $b$ to the equation. The equation can be further simplified to, \n",
    "\n",
    "$$\\ddot{x} + \\gamma\\dot{x} + {\\omega_0}^2 x = F(t),\\;\\;(1)$$\n",
    "\n",
    "where $\\gamma = \\frac{b}{m}$ and ${\\omega_0}^2$, defined as the natural angular frequency is equal to $\\frac{k}{m}$.\n"
   ]
  },
  {
   "cell_type": "markdown",
   "metadata": {},
   "source": [
    "For a system with no driving force $F(t)$, an analytical solution can be obtained readily. Subbing the exponential anasatz, $$x(t) = e^{\\lambda t} \\;\\;\\;\\;\\;\\;\\;\\;\\;\\;\\;\\;\\;\\;\\;\\;\\;\\; (2)$$ into the above equation leads to a readily solvable ODE.  $\\lambda$ are the roots to the quadratic auxillary equation.  The three resulting cases for a damped oscillator are, \n",
    "$$b^2 - 4mk > 0,\\;\\;\\;\\;\\;\\;\\;\\;\\;\\;\\;\\; (3)$$\n",
    "$$b^2 - 4mk = 0,\\;\\;\\;\\;\\;\\;\\;\\;\\;\\;\\;\\; (4)$$\n",
    "$$b^2 - 4mk < 0.\\;\\;\\;\\;\\;\\;\\;\\;\\;\\;\\;\\; (5)$$\n",
    "\n",
    "The three cases given by equation 3, 4 and 5 are related to heavy-damping, critically damped and underdamped oscillators.\n",
    "\n",
    "An overdamped system is which the damping factor will cause it to return to equillibrium without oscillating. $\\;$ Similarly, a critically damped system will also cease to oscillate, however the amplitude of the system returns as quickly as possible to the equillibrium position.$\\;$  An underdamped system does oscillate but the overall amplitude converges to zero, similar to the other cases. $\\;$ An undamped system will oscillate forever without dissipating any energy. "
   ]
  },
  {
   "cell_type": "markdown",
   "metadata": {},
   "source": [
    "For such a system the general solution is given by the equation below."
   ]
  },
  {
   "cell_type": "code",
   "execution_count": 34,
   "metadata": {},
   "outputs": [
    {
     "data": {
      "text/latex": [
       "$\\displaystyle x{\\left(t \\right)} = C_{1} e^{\\frac{t \\left(\\text{b} - \\sqrt{\\text{b}^{2} - 4 \\text{k} \\text{m}}\\right)}{2 \\text{m}}} + C_{2} e^{\\frac{t \\left(\\text{b} + \\sqrt{\\text{b}^{2} - 4 \\text{k} \\text{m}}\\right)}{2 \\text{m}}}$"
      ],
      "text/plain": [
       "Eq(x(t), C1*exp(t*(b - sqrt(b**2 - 4*k*m))/(2*m)) + C2*exp(t*(b + sqrt(b**2 - 4*k*m))/(2*m)))"
      ]
     },
     "metadata": {},
     "output_type": "display_data"
    }
   ],
   "source": [
    "from sympy import Function\n",
    "from sympy.abc import t\n",
    "from sympy.physics.units.quantities import Quantity\n",
    "\n",
    "m = Quantity(\"m\")\n",
    "k  = Quantity(\"k\")\n",
    "b = Quantity(\"b\")\n",
    "\n",
    "#Displacment from center\n",
    "x = smp.symbols(\"x\", cls=smp.Function)\n",
    "\n",
    "function = smp.dsolve(m*x(t).diff(t, t)\n",
    " - b*x(t).diff(t)+ k*x(t), x(t))\n",
    "\n",
    "display(function)"
   ]
  },
  {
   "cell_type": "markdown",
   "metadata": {},
   "source": [
    "An analytical solution is found by substituting for the relavent coefficents and setting some initial parameters. For the diffrent cases, analytical solutions have the form:\n",
    "- Light damping (${\\omega_0}^2 > \\frac{\\gamma^2}{4}$):\n",
    "$$x(t) = Ae^{-\\frac{\\gamma}{2}t}cos(\\omega t + \\phi),$$\n",
    "\n",
    "where $\\omega = \\sqrt{{\\omega_0}^2 - \\frac{\\gamma^2}{4}}$ and $\\phi$ is the phase shift.\n",
    "\n",
    "- Heavy damping (${\\omega_0}^2 < \\frac{\\gamma^2}{4}$):\n",
    "$$x(t) = e^{-\\frac{\\gamma}{2}t}\\left(Ae^{\\alpha t} + Be^{-\\alpha t}\\right),$$\n",
    "\n",
    "where $\\alpha = \\sqrt{\\frac{\\gamma^2}{4} - {\\omega_0}^2}.$\n",
    "\n",
    "- Critcal damping (${\\omega_0}^2 = \\frac{\\gamma^2}{4}$):\n",
    "$$x(t) = Ae^{\\alpha t} + Be^{-\\alpha t}.$$\n",
    "\n"
   ]
  },
  {
   "cell_type": "code",
   "execution_count": 11,
   "metadata": {},
   "outputs": [],
   "source": [
    "def analytical_solution(current_time: float)  -> (float,float):\n",
    "    \"\"\"\n",
    "    Returns the next iteration of position and velocity. The function calculates, which \n",
    "    of the three cases of damping the system belongs to and solves for the appropriate\n",
    "    equation. \n",
    "\n",
    "    Returns\n",
    "    -----------\n",
    "    next_position: float. Postion of the \n",
    "    \"\"\"\n",
    "    pass\n",
    "\n",
    "def energy_calculator(displacement:np.ndarray, velocity:np.ndarray,\n",
    "                     spring_constant:float = MASTER_PARAMS[\"k\"],\n",
    "                     mass:float = MASTER_PARAMS[\"m\"]) -> np.ndarray:\n",
    "    \"\"\"\n",
    "    Calculates the total energy given the velocity and displacment of the mass.\n",
    "    Returns the sum of the kinetic and potential energy at a point in the form\n",
    "    of a numpy array.\n",
    "    \"\"\"\n",
    "    energy = 0.5*spring_constant*np.square(\n",
    "             displacement) +  0.5*mass*np.square(velocity)\n",
    "    \n",
    "    return energy\n",
    "    \n",
    "                       "
   ]
  },
  {
   "cell_type": "code",
   "execution_count": 22,
   "metadata": {},
   "outputs": [],
   "source": [
    "TODO = [\n",
    "\"Add some sort of plot for each type of damping. 3 plots side by side.\",\n",
    "\"Add section on forced oscillations\"\n",
    "]"
   ]
  },
  {
   "cell_type": "markdown",
   "metadata": {},
   "source": [
    "### Numerical Integration"
   ]
  },
  {
   "cell_type": "code",
   "execution_count": 12,
   "metadata": {},
   "outputs": [
    {
     "data": {
      "image/png": "[encoded data removed]",
      "text/plain": [
       "<Figure size 432x288 with 1 Axes>"
      ]
     },
     "metadata": {
      "needs_background": "light"
     },
     "output_type": "display_data"
    }
   ],
   "source": [
    "def polynomial_2(x:float) -> float:\n",
    "    return x**2\n",
    "\n",
    "x = np.linspace(-1, 1, 1500)\n",
    "xstep = np.linspace(-1, 1, 5)\n",
    "plt.grid()\n",
    "plt.axhline(0, color=\"black\")\n",
    "plt.axvline(0, color=\"black\")\n",
    "plt.fill_between(xstep, 0, polynomial_2(xstep), facecolor='yellow')\n",
    "plt.title(f\"y = $x^2$\")\n",
    "for xval in xstep:\n",
    "    plt.plot((xval, xval), (0, polynomial_2(xval)), color='black')\n",
    "plt.plot(x, polynomial_2(x),'r-');\n"
   ]
  },
  {
   "cell_type": "markdown",
   "metadata": {},
   "source": [
    "Not all functions have simple antiderviates therefore solving these functions analytically can be quite challenging. For example, solving the Biot-Savart Law analytical for a given point (a, b, c) takes approximately 20 minutes using SymPy symbolic intergration. In these cases, numerical intergration is required for solve these problems to a reasonable degree of accuracy. If the antiderivative is interpreated as computing the area enclosed by the function then we can split the problem into the summation of small trapeziums as can be seen in the figure above. This is an example of numerical intergration and is known as Trapezium rule.  Several numerical intergrational methods are investigated within this notebook."
   ]
  },
  {
   "cell_type": "markdown",
   "metadata": {},
   "source": [
    "Runge-Kutta methods are a family of iterative methods used to integrate ordinary diffrential equations (ODE's).  The class of methods use the information of the \"slope\" or tangent at more than one point to extrapolate the solution for future time steps.\n",
    "$\\;$One problem that presists through numerical intergration methods such as the Runge-Kutta are that as they are iterative, it is very difficult to parralellise the code.  $\\;$Such methods do exist but are not considered within this project [1].\n",
    "\n",
    "Source: T. Young, “I. the bakerian lecture. experiments and calculations relative to physical optics,”\n",
    "Philosophical Transactions of the Royal Society of London, pp. 1 – 16.\n",
    "\n"
   ]
  },
  {
   "cell_type": "markdown",
   "metadata": {},
   "source": [
    "#### 1. Euler\n",
    "The Euler method is a first order [1] explicit method.  It is the simplest method to obtain a numerical solution and it is generally known to be unstable hence with a local error (error per step) being proportional to the square of the step, $O(h^2)$ with a global error of $O(h)$ [2]. $\\;$ The method is used to  calculate the state $X(t_{i+1})$, given the state $X(t_{i})$. \n",
    "\n",
    "<img src=\"https://pythonnumericalmethods.berkeley.edu/_images/22.03.01-Euler-method-illustration.png\" width=400 height=400 class=\"center\">\n",
    "\n",
    "Image obtained from source [2].\n",
    "\n",
    "The Euler method can be derived by taking the Taylor expansion of the function $X$ around $t_0$,\n",
    "$$X(t_0+h) = X(t_0) + hX'(t_0) + O(h^2). \\;\\;\\;\\; $$\n",
    "\n",
    "By iterating over a number of time steps, the final state at a given time $t$ can be obtained.\n",
    "\n",
    "\\\n",
    "\\\n",
    "[1] Atkinson, Kendall A. (1989). An Introduction to Numerical Analysis (2nd ed.). New York: John Wiley & Sons. ISBN 978-0-471-50023-0.\n",
    "\\\n",
    "[2] https://pythonnumericalmethods.berkeley.edu/notebooks/chapter22.03-The-Euler-Method.html accessed on: 07/04/2022"
   ]
  },
  {
   "cell_type": "code",
   "execution_count": 25,
   "metadata": {},
   "outputs": [],
   "source": [
    "def forward_euler(position:float, velocity:float, timestep:float, \n",
    "    angular_freq:float = OMEGA_SQR, damping:float = 0, \n",
    "    mass: float = MASTER_PARAMS[\"m\"]) -> (float, float):\n",
    "    \n",
    "    \"\"\"\n",
    "    Iterator for calculating the next position and velocity using the Euler Method.\n",
    "    \n",
    "    Returns a tuple of floats containing the position and velocity of the next timestep.\n",
    "    \"\"\"\n",
    "    \n",
    "    gamma = damping/mass\n",
    "    acceleartion = -angular_freq * position - gamma*velocity\n",
    "\n",
    "    next_position = position + timestep*velocity\n",
    "    next_velocity = velocity + timestep*acceleartion\n",
    "\n",
    "    return next_position, next_velocity\n",
    "\n",
    "    "
   ]
  },
  {
   "cell_type": "markdown",
   "metadata": {},
   "source": [
    "There are fundamental issues that arise due to Euler's method.  The iterative timesteps are given by, \n",
    "$$x_{i+1} = x_i +hv_i,$$\n",
    "$$ v_{i+1} = v_i + ha_i,$$\n",
    "$$a_i = -\\frac{k}{m}x_i -\\frac{b}{m}v_i.$$\n",
    "\n",
    "For an undamped system, the expression for total energy is given by,\n",
    "$$E_{i+1} = E_k + E_p = \\frac{1}{2}kx^2_i + \\frac{1}{2}mv^2_i + \\frac{h^2k^2x^2_i}{2m} +\\frac{h^2kv^2_i}{2}.$$\n",
    "Upon simplification, this leads to, \n",
    "$$E_{i+1} = E_i(1+\\frac{k}{m}h^2).$$\n",
    "\n",
    "Hence, Euler's method predicts a steady increase in the energy of the system, which is un-physical as we would expect an undamped system to retain the same total energy.\n",
    "\n",
    "From the local truncation error of the method, $O(h^2)$, it is evident to see that a smaller value of the step size would minimise the error introduced by the approximation, but if $h$ is too small then there will be cancellation errors due to the finite precision used in represnting the numbers invovled [1]. $\\;$ There is a lower limit on what value $h$ can be chosen to be, if a value lower than the machine epsilon is taken, then we will obtain, $x_{i+1} = x_{i-1}$, which would result in a straight line.\n",
    "\n",
    "The choice of step size is explored further in the notebook and is a feature that is present in all of the numerical methods discussed below.\n",
    "\n",
    "Source:\n",
    "[1] $\\;$ Hill, C. (2016). General scientific programming. In Learning Scientific Programming with Python (pp. 402-423). Cambridge: Cambridge University Press. doi:10.1017/CBO9781139871754.009\n",
    "\n"
   ]
  },
  {
   "cell_type": "markdown",
   "metadata": {},
   "source": [
    "#### 2. Improved Euler\n",
    "\n",
    "The simplest method to improve the base Euler Method is to include an extram term in the Taylor expansion of the derivative.  For a function, $X$ the improved Euler formulation is,\n",
    "$$X(t_0+h) = X(t_0) + hX'(t_0) + \\frac{1}{2}h^2X''(t_0) + O(h^3). \\;\\;\\;\\; $$\n",
    "\n",
    "Hence, the local error is now proportional to $h^3$. The modified of iterative equations are given by,\n",
    "$$x_{i+1} = 2x_i - x_{i-1} + h^2a_i,$$\n",
    "$$v_i = \\frac{x_{i+1} - x_{i-1}}{2h},$$\n",
    "$$a_i = -\\gamma x_i - {\\omega_0}^2v_i.$$\n",
    "\n",
    "The energy associated with each iterative timestep for the improved Euler method is given by,\n",
    "\n",
    "$$E_{i + 1} = \\frac{1}{2}k\\left[x_i\\left(1-\\frac{h^2k}{2m}\\right) + hv_i\\left(1-\\frac{hb}{2m}\\right)\\right]^2 + \\frac{1}{2}m\\left[v_i\\left(1-\\frac{hb}{m}\\right) - x_i\\frac{hk}{m}\\right]^2.$$\n",
    "\n",
    "It is evident from the previous equation that the improved Euler method also does not conserve energy.\n",
    "\n",
    "\n",
    "#Delete this \n",
    "The Euler method generates the tangent to the line based on the initial point, however there is no way of saying that the next point will lie within the line itself.  This could lead to the iterative value being over or under estimated.  The Improved Euler method addresses these problems and hence reduces the error surrounding Eulter method.  "
   ]
  },
  {
   "cell_type": "code",
   "execution_count": 26,
   "metadata": {},
   "outputs": [],
   "source": [
    "def improved_euler(position:float, velocity:float, timestep:float, \n",
    "    angular_freq:float = OMEGA_SQR, damping:float = 0, \n",
    "    mass: float = MASTER_PARAMS[\"m\"]) -> (float, float):\n",
    "    \n",
    "    \"\"\"\n",
    "    Iterator for calculating the next position and velocity using the\n",
    "    Improved Euler Method.\n",
    "    \n",
    "    Returns a tuple of floats containing the position and velocity\n",
    "    of the next timestep.\n",
    "    \"\"\"\n",
    "    \n",
    "    gamma = damping/mass\n",
    "    acceleration = - angular_freq * position - gamma*velocity\n",
    "    \n",
    "    next_position = position + timestep*velocity + (timestep**2/2)*acceleration\n",
    "    next_velocity = velocity + timestep*acceleration\n",
    "    \n",
    "    return next_position, next_velocity\n",
    "\n"
   ]
  },
  {
   "cell_type": "markdown",
   "metadata": {},
   "source": [
    "#### 3. Verlet's Method\n",
    "\n",
    "Verlet's is a symplectic second order method that is outside the family of Runge-Kutta methods.  It holds energy fairly constant compared to the other methods outlined above. The formulation arises from a centered derivative where,\n",
    "$$ \\frac{dX}{dt} = \\lim_{h\\to 0}\\frac{X(t+h) - X(t - h))}{2h}$$.\n",
    "\n",
    "Following this, two Taylor expansions are taken for $x(t+h)$ and $x(t-h)$. \n",
    "Following this procedure and taking derivatives of the above equation, iterative equations are obtained of the form,\n",
    "\n",
    "$$x_{i+1} = 2x_i - x_{i-1} + h^2a_i + O(h^4),$$\n",
    "$$v_i = \\frac{x_{i+1} - x_{i-1}}{2h} + O(h^2),$$\n",
    "$$a_i = -\\gamma x_i - {\\omega_0}^2v_i + O(h^2).$$\n",
    "\n",
    "As we only want $x$, we can combine the equations to give, \n",
    "$$x_{i+1} = 2\\frac{2m - kh^2}{2m + bh}x_i + \\frac{bh - 2m}{2m + bh}x_{i-1}$$\n",
    "\n",
    "The local truncation error within verlet is $O(h^4)$ for the position and $O(h^2)$ for the velocity therefore the error associated with each data point reduces much quicker compared to the other values with increasing $h$. In contrast to Euler methods, the global error of Verlet methods are of order two.   However, one downside of the Verlet method is that is not self-starting, so another method has to be used once to start the algorithm. \n"
   ]
  },
  {
   "cell_type": "code",
   "execution_count": 49,
   "metadata": {},
   "outputs": [],
   "source": [
    "def verlet(position:float, previous_position:float, timestep:float, \n",
    "    angular_freq:float = OMEGA_SQR, damping:float = 0, \n",
    "    mass: float = MASTER_PARAMS[\"m\"],\n",
    "    spring_constant:float = MASTER_PARAMS[\"k\"]) -> (float, float):\n",
    "    \n",
    "    \"\"\"\n",
    "    Iterator for calculating the next position and current velocity using\n",
    "    the Verlet method. Requires the position at the previous timestep\n",
    "    and the current position to calculate the next position. Velocity\n",
    "    is calculating the gradient of the displacement time graph between\n",
    "    the current and next position.\n",
    "    \n",
    "    Returns a tuple of floats containing the position and velocity\n",
    "    of the next timestep.\n",
    "    \"\"\"\n",
    "    \n",
    "    gamma = damping/mass\n",
    "    next_position = 2 * ((2*mass - spring_constant * timestep**2)/(\n",
    "        2*mass + damping * timestep))* position + (\n",
    "        (damping * timestep - 2*mass) / (2*mass + damping * timestep)\n",
    "    ) * previous_position\n",
    "    \n",
    "    next_velocity = (next_position - previous_position)/(2*timestep)\n",
    "    \n",
    "    return next_position, current_velocity\n",
    "\n"
   ]
  },
  {
   "cell_type": "code",
   "execution_count": 34,
   "metadata": {},
   "outputs": [
    {
     "data": {
      "text/plain": [
       "(4.186440677966102, -0.6271186440677965)"
      ]
     },
     "execution_count": 34,
     "metadata": {},
     "output_type": "execute_result"
    }
   ],
   "source": [
    "#Note Euler Cromer is similar to leap frogging."
   ]
  },
  {
   "cell_type": "code",
   "execution_count": 45,
   "metadata": {},
   "outputs": [
    {
     "data": {
      "text/latex": [
       "$\\displaystyle x{\\left(t \\right)} = C_{1} e^{\\frac{t \\left(\\text{b} - \\sqrt{\\text{b}^{2} - 4 \\text{k} \\text{m}}\\right)}{2 \\text{m}}} + C_{2} e^{\\frac{t \\left(\\text{b} + \\sqrt{\\text{b}^{2} - 4 \\text{k} \\text{m}}\\right)}{2 \\text{m}}}$"
      ],
      "text/plain": [
       "Eq(x(t), C1*exp(t*(b - sqrt(b**2 - 4*k*m))/(2*m)) + C2*exp(t*(b + sqrt(b**2 - 4*k*m))/(2*m)))"
      ]
     },
     "metadata": {},
     "output_type": "display_data"
    },
    {
     "data": {
      "text/latex": [
       "$\\displaystyle x{\\left(t \\right)} = \\frac{0.5 \\left(- \\text{b} + 2.0 \\sqrt{0.25 \\text{b}^{2} - \\text{k} \\text{m}}\\right) e^{\\frac{t \\left(\\text{b} + \\sqrt{\\text{b}^{2} - 4 \\text{k} \\text{m}}\\right)}{2 \\text{m}}}}{\\sqrt{0.25 \\text{b}^{2} - \\text{k} \\text{m}}} + \\frac{0.5 \\left(\\text{b} + 2.0 \\sqrt{0.25 \\text{b}^{2} - \\text{k} \\text{m}}\\right) e^{\\frac{t \\left(\\text{b} - \\sqrt{\\text{b}^{2} - 4 \\text{k} \\text{m}}\\right)}{2 \\text{m}}}}{\\sqrt{0.25 \\text{b}^{2} - \\text{k} \\text{m}}}$"
      ],
      "text/plain": [
       "Eq(x(t), 0.5*(-b + 2.0*sqrt(0.25*b**2 - k*m))*exp(t*(b + sqrt(b**2 - 4*k*m))/(2*m))/sqrt(0.25*b**2 - k*m) + 0.5*(b + 2.0*sqrt(0.25*b**2 - k*m))*exp(t*(b - sqrt(b**2 - 4*k*m))/(2*m))/sqrt(0.25*b**2 - k*m))"
      ]
     },
     "metadata": {},
     "output_type": "display_data"
    },
    {
     "data": {
      "text/latex": [
       "$\\displaystyle x{\\left(t \\right)} = \\frac{0.375823014001414 \\left(- \\text{b} + 2.66082693913001 \\sqrt{0.141242937853107 \\text{b}^{2} - 1}\\right) e^{0.169491525423729 t \\left(\\text{b} + 2.66082693913001 \\sqrt{0.141242937853107 \\text{b}^{2} - 1}\\right)}}{\\sqrt{0.141242937853107 \\text{b}^{2} - 1}} + \\frac{0.375823014001414 \\left(\\text{b} + 2.66082693913001 \\sqrt{0.141242937853107 \\text{b}^{2} - 1}\\right) e^{0.169491525423729 t \\left(\\text{b} - 2.66082693913001 \\sqrt{0.141242937853107 \\text{b}^{2} - 1}\\right)}}{\\sqrt{0.141242937853107 \\text{b}^{2} - 1}}$"
      ],
      "text/plain": [
       "Eq(x(t), 0.375823014001414*(-b + 2.66082693913001*sqrt(0.141242937853107*b**2 - 1))*exp(0.169491525423729*t*(b + 2.66082693913001*sqrt(0.141242937853107*b**2 - 1)))/sqrt(0.141242937853107*b**2 - 1) + 0.375823014001414*(b + 2.66082693913001*sqrt(0.141242937853107*b**2 - 1))*exp(0.169491525423729*t*(b - 2.66082693913001*sqrt(0.141242937853107*b**2 - 1)))/sqrt(0.141242937853107*b**2 - 1))"
      ]
     },
     "metadata": {},
     "output_type": "display_data"
    },
    {
     "data": {
      "text/latex": [
       "$\\displaystyle x{\\left(t \\right)} = 1.0 e^{0.450987616801697 i t} + 1.0 e^{- 0.450987616801697 i t}$"
      ],
      "text/plain": [
       "Eq(x(t), 1.0*exp(0.450987616801697*I*t) + 1.0*exp(-0.450987616801697*I*t))"
      ]
     },
     "metadata": {},
     "output_type": "display_data"
    },
    {
     "name": "stdout",
     "output_type": "stream",
     "text": [
      "2.6608269391300143\n",
      "time period 2.8322022335146593\n"
     ]
    },
    {
     "data": {
      "text/latex": [
       "$\\displaystyle x{\\left(t \\right)} = 1.0 e^{0.450987616801697 i t} + 1.0 e^{- 0.450987616801697 i t}$"
      ],
      "text/plain": [
       "Eq(x(t), 1.0*exp(0.450987616801697*I*t) + 1.0*exp(-0.450987616801697*I*t))"
      ]
     },
     "metadata": {},
     "output_type": "display_data"
    },
    {
     "data": {
      "image/png": "[encoded data removed]",
      "text/plain": [
       "<Figure size 432x288 with 1 Axes>"
      ]
     },
     "metadata": {
      "needs_background": "light"
     },
     "output_type": "display_data"
    }
   ],
   "source": [
    "#Practice\n",
    "from sympy.physics.units.quantities import Quantity\n",
    "from sympy import Function\n",
    "from sympy.abc import t\n",
    "m = Quantity(\"m\")\n",
    "k  = Quantity(\"k\")\n",
    "b = Quantity(\"b\")\n",
    "\n",
    "x = smp.symbols(\"x\", cls=smp.Function)\n",
    "function = smp.dsolve(m*x(t).diff(t, t) - b*x(t).diff(t)+ k*x(t), x(t))\n",
    "display(function)\n",
    "\n",
    "\n",
    "C = smp.solve([function.rhs.subs(t, 0) - 2.0,function.rhs.diff(t).subs(t, 0) -0.0])\n",
    "function = function.subs(C)\n",
    "display(function)\n",
    "function = function.subs(k, MASTER_PARAMS[\"k\"])\n",
    "function = function.subs(m, MASTER_PARAMS[\"m\"])\n",
    "display(function)\n",
    "function = function.subs(b, 0)\n",
    "display(function)\n",
    "print((4*2.95*0.6)**0.5)\n",
    "print(\"time period\", 2*3.14*(np.sqrt(0.6/2.95)))\n",
    "display(function)\n",
    "function_lmd = smp.lambdify(t, function.rhs, \"numpy\")\n",
    "\n",
    "time = np.arange(0, 30, 0.01)\n",
    "\n",
    "plt.plot(time, np.real(function_lmd(time)));"
   ]
  },
  {
   "cell_type": "code",
   "execution_count": null,
   "metadata": {},
   "outputs": [],
   "source": []
  }
 ],
 "metadata": {
  "interpreter": {
   "hash": "28da459b0e22c5c4e5ce3166eaeebd1ac2b3720236081f04364f5b16a0a89d71"
  },
  "kernelspec": {
   "display_name": "Python 3 (ipykernel)",
   "language": "python",
   "name": "python3"
  },
  "language_info": {
   "codemirror_mode": {
    "name": "ipython",
    "version": 3
   },
   "file_extension": ".py",
   "mimetype": "text/x-python",
   "name": "python",
   "nbconvert_exporter": "python",
   "pygments_lexer": "ipython3",
   "version": "3.8.3"
  }
 },
 "nbformat": 4,
 "nbformat_minor": 2
}
